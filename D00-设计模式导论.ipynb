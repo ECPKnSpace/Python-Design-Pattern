{
 "cells": [
  {
   "cell_type": "markdown",
   "metadata": {},
   "source": [
    "#### 一、接口的概念\n",
    "- 接口就是抽象方法的集合\n",
    "- 作用：限制实现接口的类必须按照接口给定的调用方式实现这些方法；对高层模块隐藏了类的内部实现。"
   ]
  },
  {
   "cell_type": "code",
   "execution_count": 21,
   "metadata": {},
   "outputs": [],
   "source": [
    "from abc import ABCMeta, abstractmethod\n",
    "\n",
    "# interface\n",
    "class Payment(metaclass=ABCMeta):\n",
    "    # abstract method\n",
    "    @abstractmethod\n",
    "    def pay(self, money):\n",
    "        pass"
   ]
  },
  {
   "cell_type": "code",
   "execution_count": 22,
   "metadata": {},
   "outputs": [],
   "source": [
    "class AliPay(Payment):\n",
    "    # implement the interface Payment\n",
    "    def pay(self, money):\n",
    "        print('支付宝支付%d元。' % money)\n",
    "\n",
    "class WechatPay(Payment):\n",
    "    # implement the interface Payment\n",
    "    def pay(self, money):\n",
    "        print('微信支付%d元。' % money)"
   ]
  },
  {
   "cell_type": "code",
   "execution_count": 23,
   "metadata": {},
   "outputs": [],
   "source": [
    "p = AliPay()\n",
    "# TypeError: Can't instantiate abstract class AliPay with abstract method pay"
   ]
  },
  {
   "cell_type": "code",
   "execution_count": 24,
   "metadata": {},
   "outputs": [
    {
     "name": "stdout",
     "output_type": "stream",
     "text": [
      "支付宝支付100元。\n"
     ]
    }
   ],
   "source": [
    "p.pay(100)"
   ]
  },
  {
   "cell_type": "code",
   "execution_count": 25,
   "metadata": {},
   "outputs": [],
   "source": [
    "p = WechatPay()"
   ]
  },
  {
   "cell_type": "code",
   "execution_count": 26,
   "metadata": {},
   "outputs": [
    {
     "name": "stdout",
     "output_type": "stream",
     "text": [
      "微信支付100元。\n"
     ]
    }
   ],
   "source": [
    "p.pay(100)"
   ]
  },
  {
   "cell_type": "markdown",
   "metadata": {},
   "source": [
    "#### 二、面向对象设计SOLID原则\n",
    "\n",
    "**开放封闭原则**：一个软件实体如类、模块和函数应该对扩展开放，对修改关闭。即软件实体应尽量在不修改原有代码的情况下进行扩展。\n",
    "\n",
    "**里氏替换原则**：所有引用父类的地方必须能透明地使用其子类的对象。\n",
    "\n",
    "**依赖倒置原则**：高层模块不应该依赖低层模块，二者都应该依赖其抽象；抽象不应该依赖细节；细节应该依赖抽象。要针对接口编程，而不是针对实现编程。\n",
    "\n",
    "**接口隔离原则**：使用多个专门的接口，而不使用单一的总接口，即客户端不应该依赖那些它不需要的接口。\n",
    "\n",
    "**单一职责原则**：不要存在多于一个导致类变更的原因。通俗的说，即一个类只负责一项职责。\n"
   ]
  },
  {
   "cell_type": "markdown",
   "metadata": {},
   "source": [
    "#### 三、设计模式分类  \n",
    "<p><b><span>创建型模式（5种）</span></b>：工厂方法模式、抽象工厂模式、创建者模式、原型模式、单例模式。</p>    \n",
    "<p><b><span>结构型模式（7种）</span></b>：适配器模式、桥接模式、组合模式、装饰模式、外观模式、享元模式、代理模式。</p>   \n",
    "<p><b><span>行为型模式（11种）</span></b>：解释器模式、责任链模式、命令模式、迭代器模式、中介者模式、备忘录模式、</p>\n",
    "<p>观察者模式、状态模式、策略模式、访问者模式、模板方法模式。</p>"
   ]
  }
 ],
 "metadata": {
  "kernelspec": {
   "display_name": "base",
   "language": "python",
   "name": "python3"
  },
  "language_info": {
   "codemirror_mode": {
    "name": "ipython",
    "version": 3
   },
   "file_extension": ".py",
   "mimetype": "text/x-python",
   "name": "python",
   "nbconvert_exporter": "python",
   "pygments_lexer": "ipython3",
   "version": "3.11.4"
  },
  "orig_nbformat": 4
 },
 "nbformat": 4,
 "nbformat_minor": 2
}
