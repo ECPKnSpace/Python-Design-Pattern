{
 "cells": [
  {
   "cell_type": "markdown",
   "metadata": {},
   "source": [
    "##### 观察者模式"
   ]
  },
  {
   "cell_type": "markdown",
   "metadata": {},
   "source": [
    "- 内容：定义对象间的一种一对多的依赖关系，当一个对象的状态发生改变时，所有依赖于它的对象都得到通知并被自动更新。观察者模式又称“发布-订阅”模式  \n",
    "- 角色： \n",
    "    - 抽象主题（Subject）   \n",
    "    - 具体主题（ConcreteSubject）——发布者  \n",
    "    - 抽象观察者（Observer）  \n",
    "    - 具体观察者（ConcreteObserver）——订阅者"
   ]
  },
  {
   "cell_type": "markdown",
   "metadata": {},
   "source": [
    "- 适用场景：\n",
    "    - 当一个抽象模型有两方面，其中一个方面依赖于另一个方面。将这两者封装在独立对象中以使它们可以各自独立地改变和复用。\n",
    "    - 当对一个对象的改变需要同时改变其它对象，而不知道具体有多少对象有待改变。\n",
    "    - 当一个对象必须通知其它对象，而它又不能假定其它对象是谁。换言之，你不希望这些对象是紧密耦合的。\n",
    "- 优点：\n",
    "    - 目标和观察者之间的抽象耦合最小\n",
    "    - 支持广播通信\n"
   ]
  },
  {
   "cell_type": "code",
   "execution_count": 1,
   "metadata": {},
   "outputs": [],
   "source": [
    "from abc import ABCMeta, abstractmethod\n",
    "\n",
    "class Observable:\n",
    "    def __init__(self):\n",
    "        self.observers = []\n",
    "\n",
    "    def add_observer(self, observer):\n",
    "        self.observers.append(observer)\n",
    "\n",
    "    def remove_observer(self, observer):\n",
    "        self.observers.remove(observer)\n",
    "\n",
    "    def notify_observers(self, data):\n",
    "        for observer in self.observers:\n",
    "            observer.update(data)"
   ]
  },
  {
   "cell_type": "code",
   "execution_count": 2,
   "metadata": {},
   "outputs": [],
   "source": [
    "class Observer(metaclass=ABCMeta):\n",
    "    @abstractmethod\n",
    "    def update(self, data):\n",
    "        pass"
   ]
  },
  {
   "cell_type": "code",
   "execution_count": 3,
   "metadata": {},
   "outputs": [],
   "source": [
    "class ConcreteObservable(Observable):\n",
    "    def __init__(self):\n",
    "        super().__init__()\n",
    "        self.data = None\n",
    "\n",
    "    def set_data(self, data):\n",
    "        self.data = data\n",
    "        self.notify_observers(self.data)"
   ]
  },
  {
   "cell_type": "code",
   "execution_count": 4,
   "metadata": {},
   "outputs": [],
   "source": [
    "class ConcreteObserver(Observer):\n",
    "    def __init__(self, name):\n",
    "        self.name = name\n",
    "    \n",
    "    def update(self, data):\n",
    "        print(f'{self.name} 收到了新数据：{data}')"
   ]
  },
  {
   "cell_type": "code",
   "execution_count": 5,
   "metadata": {},
   "outputs": [
    {
     "name": "stdout",
     "output_type": "stream",
     "text": [
      "观察者1 收到了新数据：Welcome to Paris-Saclay University\n",
      "观察者2 收到了新数据：Welcome to Paris-Saclay University\n"
     ]
    }
   ],
   "source": [
    "observable = ConcreteObservable()\n",
    "observer1 = ConcreteObserver('观察者1')\n",
    "observer2 = ConcreteObserver('观察者2')\n",
    "\n",
    "observable.add_observer(observer1)\n",
    "observable.add_observer(observer2)\n",
    "\n",
    "observable.set_data('Welcome to Paris-Saclay University')"
   ]
  }
 ],
 "metadata": {
  "kernelspec": {
   "display_name": "base",
   "language": "python",
   "name": "python3"
  },
  "language_info": {
   "codemirror_mode": {
    "name": "ipython",
    "version": 3
   },
   "file_extension": ".py",
   "mimetype": "text/x-python",
   "name": "python",
   "nbconvert_exporter": "python",
   "pygments_lexer": "ipython3",
   "version": "3.11.4"
  },
  "orig_nbformat": 4
 },
 "nbformat": 4,
 "nbformat_minor": 2
}
