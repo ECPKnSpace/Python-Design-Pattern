{
 "cells": [
  {
   "cell_type": "markdown",
   "metadata": {},
   "source": [
    "#### 责任链模式"
   ]
  },
  {
   "cell_type": "markdown",
   "metadata": {},
   "source": [
    "- 内容：使多个对象都有机会处理请求，从而避免请求的发送者和接收者之间的耦合关系。将这些对象连成一条链，并沿着这条链传递该请求，直到有一个对象处理它为止。  \n",
    "- 角色：  \n",
    "    - 抽象处理器（Handler）  \n",
    "    - 具体处理者（ConcreteHandler）  \n",
    "    - 客户端（Client）"
   ]
  },
  {
   "cell_type": "markdown",
   "metadata": {},
   "source": [
    "- 适用场景：  \n",
    "    - 有多对象可以处理一个请求，哪个对象处理由运行时决定  \n",
    "    - 在不明确接收者的情况下，向多个对象中的一个提交一个请求  \n",
    "- 优点：  \n",
    "    - 降低耦合度:一个对象无需知道是其他哪一个对象处理其请求"
   ]
  },
  {
   "cell_type": "code",
   "execution_count": 1,
   "metadata": {},
   "outputs": [],
   "source": [
    "from abc import ABCMeta, abstractmethod\n",
    "\n",
    "# 抽象处理器\n",
    "class Handler(metaclass=ABCMeta):\n",
    "    @abstractmethod\n",
    "    def handle_leave(self, day):\n",
    "        pass\n",
    "\n",
    "# 具体处理器\n",
    "class GeneralManager(Handler):\n",
    "    def handle_leave(self, day):\n",
    "        if day <= 10:\n",
    "            print(\"总经理准假%d天\" % day)\n",
    "        else:\n",
    "            print(\"你还是辞职吧\")\n",
    "\n",
    "# 具体处理器\n",
    "class DepartmentManager(Handler):\n",
    "    def __init__(self):\n",
    "        self.next = GeneralManager()\n",
    "\n",
    "    def handle_leave(self, day):\n",
    "        if day <= 5:\n",
    "            print(\"部门经理准假%d天\" % day)\n",
    "        else:\n",
    "            print(\"部门经理职权不足\")\n",
    "            self.next.handle_leave(day)\n",
    "\n",
    "# 具体处理器\n",
    "class ProjectDirector(Handler):\n",
    "    def __init__(self):\n",
    "        self.next = DepartmentManager()\n",
    "\n",
    "    def handle_leave(self, day):\n",
    "        if day <= 1:\n",
    "            print(\"项目主管准假%d天\" % day)\n",
    "        else:\n",
    "            print(\"项目主管职权不足\")\n",
    "            self.next.handle_leave(day)"
   ]
  },
  {
   "cell_type": "code",
   "execution_count": 2,
   "metadata": {},
   "outputs": [
    {
     "name": "stdout",
     "output_type": "stream",
     "text": [
      "项目主管准假1天\n",
      "项目主管职权不足\n",
      "部门经理准假5天\n",
      "项目主管职权不足\n",
      "部门经理职权不足\n",
      "总经理准假10天\n",
      "项目主管职权不足\n",
      "部门经理职权不足\n",
      "你还是辞职吧\n"
     ]
    }
   ],
   "source": [
    "days = [1, 5, 10, 20]\n",
    "handler = ProjectDirector()\n",
    "\n",
    "for day in days:\n",
    "    handler.handle_leave(day)"
   ]
  }
 ],
 "metadata": {
  "kernelspec": {
   "display_name": "base",
   "language": "python",
   "name": "python3"
  },
  "language_info": {
   "codemirror_mode": {
    "name": "ipython",
    "version": 3
   },
   "file_extension": ".py",
   "mimetype": "text/x-python",
   "name": "python",
   "nbconvert_exporter": "python",
   "pygments_lexer": "ipython3",
   "version": "3.11.4"
  },
  "orig_nbformat": 4
 },
 "nbformat": 4,
 "nbformat_minor": 2
}
