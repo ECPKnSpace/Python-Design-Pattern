{
 "cells": [
  {
   "cell_type": "markdown",
   "metadata": {},
   "source": [
    "#### 组合模式"
   ]
  },
  {
   "cell_type": "markdown",
   "metadata": {},
   "source": [
    "- 内容：将对象组合成树形结构以表示“部分-整体”的层次结构。组合模式使得用户对单个对象和组合对象的使用具有一致性。\n",
    "- 角色：\n",
    "    - 抽象组件（Component）\n",
    "    - 叶子组件（Leaf）\n",
    "    - 复合组件（Composite）\n",
    "    - 客户端（Client）"
   ]
  },
  {
   "cell_type": "markdown",
   "metadata": {},
   "source": [
    "- 适用场景：\n",
    "    - 表示对象的“部分-整体”层次结构（特别是结构是递归的）\n",
    "    - 希望用户忽略组合对象与单个对象的不同，用户统一地使用组合结构中的所有对象\n",
    "- 优点:\n",
    "    - 定义了包含基本对象和组合对象的类层次结构\n",
    "    - 简化客户端代码, 即客户端可以一致地使用组合对象和单个对象\n",
    "    - 更容易增加新类型的组件"
   ]
  },
  {
   "cell_type": "code",
   "execution_count": 1,
   "metadata": {},
   "outputs": [],
   "source": [
    "from abc import ABCMeta, abstractmethod\n",
    "\n",
    "# 抽象组件\n",
    "class Graphic(metaclass=ABCMeta):\n",
    "    @abstractmethod\n",
    "    def draw(self):\n",
    "        pass\n",
    "\n",
    "# 叶子组件\n",
    "class Point(Graphic):\n",
    "    def __init__(self, x, y):\n",
    "        self.x = x\n",
    "        self.y = y\n",
    "\n",
    "    def __str__(self):\n",
    "        return \"点（%s, %s）\" % (self.x, self.y)\n",
    "    \n",
    "    def draw(self):\n",
    "        print(str(self))\n",
    "\n",
    "# 叶子组件\n",
    "class Line(Graphic):\n",
    "    def __init__(self, p1, p2):\n",
    "        self.p1 = p1\n",
    "        self.p2 = p2\n",
    "\n",
    "    def __str__(self):\n",
    "        return \"线段（%s, %s）\" % (self.p1, self.p2)\n",
    "    \n",
    "    def draw(self):\n",
    "        print(str(self))\n",
    "\n",
    "# 复杂组件\n",
    "class Picture(Graphic):\n",
    "    def __init__(self, iterable):\n",
    "        self.children = []\n",
    "        for g in iterable:\n",
    "            self.add(g)\n",
    "\n",
    "    def add(self, graphic):\n",
    "        self.children.append(graphic)\n",
    "\n",
    "    def draw(self):\n",
    "        print(\"------复合图形 Start------\")\n",
    "        for g in self.children:\n",
    "            g.draw()\n",
    "        print(\"------复合图形 End------\")"
   ]
  },
  {
   "cell_type": "code",
   "execution_count": 3,
   "metadata": {},
   "outputs": [
    {
     "name": "stdout",
     "output_type": "stream",
     "text": [
      "------复合图形 Start------\n",
      "点（2, 3）\n",
      "线段（点（3, 4）, 点（6, 7））\n",
      "线段（点（1, 5）, 点（2, 8））\n",
      "------复合图形 End------\n"
     ]
    }
   ],
   "source": [
    "p1 = Point(2, 3)\n",
    "l1 = Line(Point(3, 4), Point(6, 7))\n",
    "l2 = Line(Point(1, 5), Point(2, 8))\n",
    "pic1 = Picture([p1, l1, l2])\n",
    "pic1.draw()"
   ]
  },
  {
   "cell_type": "code",
   "execution_count": 4,
   "metadata": {},
   "outputs": [
    {
     "name": "stdout",
     "output_type": "stream",
     "text": [
      "------复合图形 Start------\n",
      "点（4, 4）\n",
      "线段（点（1, 1）, 点（0, 0））\n",
      "------复合图形 End------\n"
     ]
    }
   ],
   "source": [
    "p2 = Point(4, 4)\n",
    "l3 = Line(Point(1, 1), Point(0, 0))\n",
    "pic2 = Picture([p2, l3])\n",
    "pic2.draw()"
   ]
  },
  {
   "cell_type": "code",
   "execution_count": 5,
   "metadata": {},
   "outputs": [
    {
     "name": "stdout",
     "output_type": "stream",
     "text": [
      "------复合图形 Start------\n",
      "------复合图形 Start------\n",
      "点（2, 3）\n",
      "线段（点（3, 4）, 点（6, 7））\n",
      "线段（点（1, 5）, 点（2, 8））\n",
      "------复合图形 End------\n",
      "------复合图形 Start------\n",
      "点（4, 4）\n",
      "线段（点（1, 1）, 点（0, 0））\n",
      "------复合图形 End------\n",
      "------复合图形 End------\n"
     ]
    }
   ],
   "source": [
    "pic = Picture([pic1, pic2])\n",
    "pic.draw()"
   ]
  }
 ],
 "metadata": {
  "kernelspec": {
   "display_name": "base",
   "language": "python",
   "name": "python3"
  },
  "language_info": {
   "codemirror_mode": {
    "name": "ipython",
    "version": 3
   },
   "file_extension": ".py",
   "mimetype": "text/x-python",
   "name": "python",
   "nbconvert_exporter": "python",
   "pygments_lexer": "ipython3",
   "version": "3.11.4"
  },
  "orig_nbformat": 4
 },
 "nbformat": 4,
 "nbformat_minor": 2
}
