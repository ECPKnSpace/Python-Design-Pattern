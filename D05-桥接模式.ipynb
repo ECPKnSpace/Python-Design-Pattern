{
 "cells": [
  {
   "cell_type": "markdown",
   "metadata": {},
   "source": [
    "#### 桥接模式"
   ]
  },
  {
   "cell_type": "markdown",
   "metadata": {},
   "source": [
    "- 内容：\n",
    "    - 将一个事物的两个维度分离，使其都可以独立地变化。"
   ]
  },
  {
   "cell_type": "markdown",
   "metadata": {},
   "source": [
    "- 角色：  \n",
    "    - 抽象（Abstraction）  \n",
    "    - 细化抽象（Refined Abstraction）   \n",
    "    - 实现者（Implementor）    \n",
    "    - 具体实现者（Concrete lmplementor）"
   ]
  },
  {
   "cell_type": "code",
   "execution_count": 1,
   "metadata": {},
   "outputs": [],
   "source": [
    "from abc import ABCMeta, abstractmethod\n",
    "\n",
    "class Shape(metaclass=ABCMeta):\n",
    "    def __init__(self, color):\n",
    "        self.color = color\n",
    "    \n",
    "    @abstractmethod\n",
    "    def draw(self):\n",
    "        pass\n",
    "\n",
    "class Color(metaclass=ABCMeta):\n",
    "    @abstractmethod\n",
    "    def paint(self, shape):\n",
    "        pass"
   ]
  },
  {
   "cell_type": "code",
   "execution_count": 2,
   "metadata": {},
   "outputs": [],
   "source": [
    "class Rectangle(Shape):\n",
    "    name = \"长方形\"\n",
    "    def draw(self):\n",
    "        # 长方形逻辑\n",
    "        self.color.paint(self)\n",
    "\n",
    "class Circle(Shape):\n",
    "    name = \"圆形\"\n",
    "    def draw(self):\n",
    "        # 圆形逻辑\n",
    "        self.color.paint(self)"
   ]
  },
  {
   "cell_type": "code",
   "execution_count": 3,
   "metadata": {},
   "outputs": [],
   "source": [
    "class Red(Color):\n",
    "    def paint(self, shape):\n",
    "        print(\"红色的%s\" % shape.name)\n",
    "\n",
    "class Green(Color):\n",
    "    def paint(self, shape):\n",
    "        print(\"绿色的%s\" % shape.name)"
   ]
  },
  {
   "cell_type": "code",
   "execution_count": 4,
   "metadata": {},
   "outputs": [
    {
     "name": "stdout",
     "output_type": "stream",
     "text": [
      "红色的长方形\n"
     ]
    }
   ],
   "source": [
    "shape = Rectangle(Red())\n",
    "shape.draw()"
   ]
  },
  {
   "cell_type": "code",
   "execution_count": 5,
   "metadata": {},
   "outputs": [
    {
     "name": "stdout",
     "output_type": "stream",
     "text": [
      "绿色的圆形\n"
     ]
    }
   ],
   "source": [
    "shape = Circle(Green())\n",
    "shape.draw()"
   ]
  },
  {
   "cell_type": "code",
   "execution_count": 6,
   "metadata": {},
   "outputs": [],
   "source": [
    "# 增加形状\n",
    "class Line(Shape):\n",
    "    name = \"直线\"\n",
    "    def draw(self):\n",
    "        # 直线逻辑\n",
    "        self.color.paint(self)"
   ]
  },
  {
   "cell_type": "code",
   "execution_count": 7,
   "metadata": {},
   "outputs": [
    {
     "name": "stdout",
     "output_type": "stream",
     "text": [
      "绿色的直线\n"
     ]
    }
   ],
   "source": [
    "shape = Line(Green())\n",
    "shape.draw()"
   ]
  },
  {
   "cell_type": "code",
   "execution_count": 8,
   "metadata": {},
   "outputs": [],
   "source": [
    "# 增加颜色\n",
    "class Blue(Color):\n",
    "    def paint(self, shape):\n",
    "        print(\"蓝色的%s\" % shape.name)"
   ]
  },
  {
   "cell_type": "code",
   "execution_count": 9,
   "metadata": {},
   "outputs": [
    {
     "name": "stdout",
     "output_type": "stream",
     "text": [
      "蓝色的直线\n"
     ]
    }
   ],
   "source": [
    "shape = Line(Blue())\n",
    "shape.draw()"
   ]
  }
 ],
 "metadata": {
  "kernelspec": {
   "display_name": "base",
   "language": "python",
   "name": "python3"
  },
  "language_info": {
   "codemirror_mode": {
    "name": "ipython",
    "version": 3
   },
   "file_extension": ".py",
   "mimetype": "text/x-python",
   "name": "python",
   "nbconvert_exporter": "python",
   "pygments_lexer": "ipython3",
   "version": "3.11.4"
  },
  "orig_nbformat": 4
 },
 "nbformat": 4,
 "nbformat_minor": 2
}
