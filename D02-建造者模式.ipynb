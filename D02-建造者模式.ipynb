{
 "cells": [
  {
   "cell_type": "markdown",
   "metadata": {},
   "source": [
    "#### 建造者模式"
   ]
  },
  {
   "cell_type": "markdown",
   "metadata": {},
   "source": [
    "- 内容：将一个复杂对象的构建与它的表示分离，使得同样的构建过程可以创建不同的表示。  \n",
    "- 角色：   \n",
    "    - 抽象建造者（Builder）    \n",
    "    - 具体建造者（Concrete Builder）     \n",
    "    - 指挥者（Director）   \n",
    "    - 产品（Product）"
   ]
  },
  {
   "cell_type": "markdown",
   "metadata": {},
   "source": [
    "- 构造者模式与抽象工厂模式相似，也用来创建复杂对象。主要区别是建造者模式着重一步步构造一个复杂对象，而抽象工厂模式着重于多个系列的产品对象。\n",
    "- 优点:\n",
    "    - 隐藏了一个产品的内部结构和装配过程\n",
    "    - 将构造代码与表示代码分开\n",
    "    - 可以对构造过程进行更精细的控制"
   ]
  },
  {
   "cell_type": "code",
   "execution_count": 7,
   "metadata": {},
   "outputs": [],
   "source": [
    "# 产品\n",
    "class Player:\n",
    "    def __init__(self, face=None, body=None, arm=None, leg=None):\n",
    "        self.face = face\n",
    "        self.body = body\n",
    "        self.arm = arm\n",
    "        self.leg = leg\n",
    "\n",
    "    def __str__(self):\n",
    "        return \"%s, %s, %s, %s\" % (self.face, self.body, self.arm, self.leg)\n",
    "        "
   ]
  },
  {
   "cell_type": "code",
   "execution_count": 8,
   "metadata": {},
   "outputs": [],
   "source": [
    "from abc import ABCMeta, abstractmethod\n",
    "\n",
    "# 抽象建造者\n",
    "class PlayerBuilder(metaclass=ABCMeta):\n",
    "    @abstractmethod\n",
    "    def build_face(self):\n",
    "        pass\n",
    "\n",
    "    @abstractmethod\n",
    "    def build_body(self):\n",
    "        pass\n",
    "\n",
    "    @abstractmethod\n",
    "    def build_arm(self):\n",
    "        pass\n",
    "\n",
    "    @abstractmethod\n",
    "    def build_leg(self):\n",
    "        pass\n",
    "\n",
    "# 具体建造者 SexyGirlBuilder\n",
    "class SexyGirlBuilder(PlayerBuilder):\n",
    "    \n",
    "    def __init__(self):\n",
    "        self.player = Player()\n",
    "\n",
    "    def build_face(self):\n",
    "        self.player.face = \"漂亮脸蛋\"\n",
    "\n",
    "    def build_body(self):\n",
    "        self.player.body = \"苗条\"\n",
    "\n",
    "    def build_arm(self):\n",
    "        self.player.arm = \"漂亮胳膊\"\n",
    "\n",
    "    def build_leg(self):\n",
    "        self.player.leg = \"大长腿\"\n",
    "\n",
    "# 具体建造者 SexyGirlBuilder\n",
    "class MonsterBuilder(PlayerBuilder):\n",
    "    \n",
    "    def __init__(self):\n",
    "        self.player = Player()\n",
    "\n",
    "    def build_face(self):\n",
    "        self.player.face = \"怪兽脸\"\n",
    "\n",
    "    def build_body(self):\n",
    "        self.player.body = \"怪兽身材\"\n",
    "\n",
    "    def build_arm(self):\n",
    "        self.player.arm = \"长毛的胳膊\"\n",
    "\n",
    "    def build_leg(self):\n",
    "        self.player.leg = \"长毛的腿\""
   ]
  },
  {
   "cell_type": "code",
   "execution_count": 9,
   "metadata": {},
   "outputs": [],
   "source": [
    "# 指挥者\n",
    "class PlayerDirector: # 控制组装顺序\n",
    "    def build_player(self, builder):\n",
    "        builder.build_body()\n",
    "        builder.build_face()\n",
    "        builder.build_arm()\n",
    "        builder.build_leg()\n",
    "        return builder.player"
   ]
  },
  {
   "cell_type": "code",
   "execution_count": 10,
   "metadata": {},
   "outputs": [
    {
     "name": "stdout",
     "output_type": "stream",
     "text": [
      "漂亮脸蛋, 苗条, 漂亮胳膊, 大长腿\n"
     ]
    }
   ],
   "source": [
    "# 客户端\n",
    "builder = SexyGirlBuilder()\n",
    "director = PlayerDirector()\n",
    "p = director.build_player(builder)\n",
    "print(p)"
   ]
  },
  {
   "cell_type": "code",
   "execution_count": 11,
   "metadata": {},
   "outputs": [
    {
     "name": "stdout",
     "output_type": "stream",
     "text": [
      "怪兽脸, 怪兽身材, 长毛的胳膊, 长毛的腿\n"
     ]
    }
   ],
   "source": [
    "# 客户端\n",
    "builder = MonsterBuilder()\n",
    "director = PlayerDirector()\n",
    "p = director.build_player(builder)\n",
    "print(p)"
   ]
  }
 ],
 "metadata": {
  "kernelspec": {
   "display_name": "base",
   "language": "python",
   "name": "python3"
  },
  "language_info": {
   "codemirror_mode": {
    "name": "ipython",
    "version": 3
   },
   "file_extension": ".py",
   "mimetype": "text/x-python",
   "name": "python",
   "nbconvert_exporter": "python",
   "pygments_lexer": "ipython3",
   "version": "3.11.4"
  },
  "orig_nbformat": 4
 },
 "nbformat": 4,
 "nbformat_minor": 2
}
