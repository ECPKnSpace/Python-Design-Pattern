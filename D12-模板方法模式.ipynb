{
 "cells": [
  {
   "cell_type": "markdown",
   "metadata": {},
   "source": [
    "#### 模板方法模式"
   ]
  },
  {
   "cell_type": "markdown",
   "metadata": {},
   "source": [
    "- 内容：定义一个操作中的算法的骨架，而将一些步骤延迟到子类中。模板方法使得子类可以不改变一个算法的结构即可重定义该算法的某些特定步骤。  \n",
    "- 角色：    \n",
    "    - 抽象类(AbstractClass)：定义抽象的原子操作（钩子操作）；实现一个模板方法作为算法的骨架。   \n",
    "    - 具体类(ConcreteClass)：实现原子操作。"
   ]
  },
  {
   "cell_type": "markdown",
   "metadata": {},
   "source": [
    "- 适用场景：  \n",
    "    - 一次性实现一个算法的不变的部分。  \n",
    "    - 各个子类中的公共行为应该被提取出来并集中到一个公共父类中以避免代码重复。  \n",
    "    - 控制子类扩展。"
   ]
  },
  {
   "cell_type": "code",
   "execution_count": 7,
   "metadata": {},
   "outputs": [],
   "source": [
    "from abc import ABCMeta, abstractmethod  \n",
    "from time import sleep\n",
    "\n",
    "# 抽象类  \n",
    "class Window(metaclass=ABCMeta):  \n",
    "    @abstractmethod  \n",
    "    def start(self):  \n",
    "        pass  \n",
    "  \n",
    "    @abstractmethod  \n",
    "    def repaint(self):  \n",
    "        pass  \n",
    "  \n",
    "    @abstractmethod  \n",
    "    def stop(self):  \n",
    "        pass\n",
    "\n",
    "    def run(self): # 模板方法\n",
    "        self.start()\n",
    "        while True:\n",
    "            try:\n",
    "                self.repaint()\n",
    "                sleep(1)\n",
    "            except KeyboardInterrupt:\n",
    "                break\n",
    "        self.stop()"
   ]
  },
  {
   "cell_type": "code",
   "execution_count": 8,
   "metadata": {},
   "outputs": [
    {
     "name": "stdout",
     "output_type": "stream",
     "text": [
      "窗口开始运行\n",
      "Hello. ..\n",
      "Hello. ..\n",
      "Hello. ..\n",
      "Hello. ..\n",
      "Hello. ..\n",
      "窗口结束运行\n"
     ]
    }
   ],
   "source": [
    "# 具体类\n",
    "class MyWindow(Window):  \n",
    "    def __init__(self, msg):  \n",
    "        self.msg = msg  \n",
    "\n",
    "    def start(self):  \n",
    "        print(\"窗口开始运行\")  \n",
    "\n",
    "    def stop(self):  \n",
    "        print(\"窗口结束运行\")  \n",
    "\n",
    "    def repaint(self):  \n",
    "        print(self.msg)\n",
    "\n",
    "MyWindow(\"Hello. ..\").run() "
   ]
  }
 ],
 "metadata": {
  "kernelspec": {
   "display_name": "base",
   "language": "python",
   "name": "python3"
  },
  "language_info": {
   "codemirror_mode": {
    "name": "ipython",
    "version": 3
   },
   "file_extension": ".py",
   "mimetype": "text/x-python",
   "name": "python",
   "nbconvert_exporter": "python",
   "pygments_lexer": "ipython3",
   "version": "3.11.4"
  },
  "orig_nbformat": 4
 },
 "nbformat": 4,
 "nbformat_minor": 2
}
