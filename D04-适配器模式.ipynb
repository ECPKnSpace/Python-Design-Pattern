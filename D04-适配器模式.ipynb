{
 "cells": [
  {
   "cell_type": "markdown",
   "metadata": {},
   "source": [
    "#### 适配器模式"
   ]
  },
  {
   "cell_type": "markdown",
   "metadata": {},
   "source": [
    "- 内容：将一个类的接口转换成客户希望的另一个接口。适配器模式使得原本由于接口不兼容而不能一起工作的那些类可以一起工作。   \n",
    "- 两种实现方式：  \n",
    "    - 类适配器：使用多继承  \n",
    "    - 对象适配器：使用组合"
   ]
  },
  {
   "cell_type": "markdown",
   "metadata": {},
   "source": [
    "- 角色：\n",
    "    - 目标接口（Target）\n",
    "    - 待适配的类（Adaptee）\n",
    "    - 适配器（Adapter）\n",
    "- 适用场景：\n",
    "    - 想使用一个已经存在的类，而它的接口不符合你的要求\n",
    "    - 对象适配器想使用一些已经存在的子类，但不可能对每一个都进行子类化以匹配它们的接口。对象适配器可以适配它的父类接口。\n"
   ]
  },
  {
   "cell_type": "markdown",
   "metadata": {},
   "source": [
    "【方法一】类适配器：多继承"
   ]
  },
  {
   "cell_type": "code",
   "execution_count": 4,
   "metadata": {},
   "outputs": [],
   "source": [
    "from abc import ABCMeta, abstractmethod\n",
    "\n",
    "class Payment(metaclass=ABCMeta):\n",
    "    @abstractmethod\n",
    "    def pay(self, money):\n",
    "        pass\n",
    "\n",
    "class AliPay(Payment):\n",
    "    def pay(self, money):\n",
    "        print(\"支付宝支付%d元。\" % money)\n",
    "\n",
    "class WechatPay(Payment):\n",
    "    def pay(self, money):\n",
    "        print(\"微信支付%d元。\" % money)\n",
    "\n",
    "class BankPay:\n",
    "    def cost(self, money):\n",
    "        print(\"银联支付%d元。\" % money)"
   ]
  },
  {
   "cell_type": "code",
   "execution_count": 5,
   "metadata": {},
   "outputs": [],
   "source": [
    "class NewBankPay(Payment, BankPay):\n",
    "    def pay(self, money):\n",
    "        self.cost(money)"
   ]
  },
  {
   "cell_type": "code",
   "execution_count": 6,
   "metadata": {},
   "outputs": [
    {
     "name": "stdout",
     "output_type": "stream",
     "text": [
      "银联支付100元。\n"
     ]
    }
   ],
   "source": [
    "# 测试\n",
    "p = NewBankPay()\n",
    "p.pay(100)"
   ]
  },
  {
   "cell_type": "markdown",
   "metadata": {},
   "source": [
    "【方法二】对象适配器：组合"
   ]
  },
  {
   "cell_type": "code",
   "execution_count": 9,
   "metadata": {},
   "outputs": [],
   "source": [
    "class ApplePay:\n",
    "    def cost(self, money):\n",
    "        print(\"苹果支付%d元。\" % money)"
   ]
  },
  {
   "cell_type": "code",
   "execution_count": 8,
   "metadata": {},
   "outputs": [],
   "source": [
    "class PaymentAdapter(Payment):\n",
    "    def __init__(self, payment):\n",
    "        self.payment = payment\n",
    "\n",
    "    def pay(self, money):\n",
    "        self.payment.cost(money)"
   ]
  },
  {
   "cell_type": "code",
   "execution_count": 10,
   "metadata": {},
   "outputs": [
    {
     "name": "stdout",
     "output_type": "stream",
     "text": [
      "苹果支付200元。\n"
     ]
    }
   ],
   "source": [
    "p = PaymentAdapter(ApplePay())\n",
    "p.pay(200)"
   ]
  }
 ],
 "metadata": {
  "kernelspec": {
   "display_name": "base",
   "language": "python",
   "name": "python3"
  },
  "language_info": {
   "codemirror_mode": {
    "name": "ipython",
    "version": 3
   },
   "file_extension": ".py",
   "mimetype": "text/x-python",
   "name": "python",
   "nbconvert_exporter": "python",
   "pygments_lexer": "ipython3",
   "version": "3.11.4"
  },
  "orig_nbformat": 4
 },
 "nbformat": 4,
 "nbformat_minor": 2
}
