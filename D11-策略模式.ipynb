{
 "cells": [
  {
   "cell_type": "markdown",
   "metadata": {},
   "source": [
    "#### 策略模式"
   ]
  },
  {
   "cell_type": "markdown",
   "metadata": {},
   "source": [
    "- 内容：定义一系列的算法，把它们一个个封装起来，并且使它们可相互替换。本模式使得算法可独立于使用它的客户而变化。  \n",
    "- 角色:  \n",
    "    - 抽象策略（Strategy）  \n",
    "    - 具体策略（Concrete Strategy）  \n",
    "    - 上下文（Context）"
   ]
  },
  {
   "cell_type": "markdown",
   "metadata": {},
   "source": [
    "- 优点：  \n",
    "    - 定义了一系列可重用的算法和行为    \n",
    "    - 消除了一些条件语句     \n",
    "    - 可以提供相同行为的不同实现   \n",
    "- 缺点：   \n",
    "    - 客户必须了解不同的策略"
   ]
  },
  {
   "cell_type": "code",
   "execution_count": 2,
   "metadata": {},
   "outputs": [],
   "source": [
    "from abc import ABCMeta, abstractmethod  \n",
    "\n",
    "# 抽象策略  \n",
    "class Strategy(metaclass=ABCMeta):  \n",
    "    @abstractmethod  \n",
    "    def execute(self, data):  \n",
    "        pass  \n",
    "\n",
    "# 具体策略 \n",
    "class FastStrategy(Strategy):  \n",
    "    def execute(self, data):  \n",
    "        print(\"用较快的策略处理%s\" %data)  \n",
    "\n",
    "# 具体策略\n",
    "class SlowStrategy(Strategy):  \n",
    "    def execute(self, data):  \n",
    "        print(\"用较慢的策略处理%s\" %data) "
   ]
  },
  {
   "cell_type": "code",
   "execution_count": 3,
   "metadata": {},
   "outputs": [],
   "source": [
    "# 上下文\n",
    "class Context:\n",
    "    def __init__(self, strategy, data):\n",
    "        self.data = data\n",
    "        self.strategy = strategy\n",
    "    \n",
    "    def set_strategy(self, strategy):\n",
    "        self.strategy = strategy\n",
    "        \n",
    "    def do_strategy(self):\n",
    "        self.strategy.execute(self.data)"
   ]
  },
  {
   "cell_type": "code",
   "execution_count": 4,
   "metadata": {},
   "outputs": [
    {
     "name": "stdout",
     "output_type": "stream",
     "text": [
      "用较快的策略处理[...]\n"
     ]
    }
   ],
   "source": [
    "data = \"[...]\"\n",
    "s1 = FastStrategy()\n",
    "context = Context(s1, data)\n",
    "context.do_strategy()"
   ]
  },
  {
   "cell_type": "code",
   "execution_count": 6,
   "metadata": {},
   "outputs": [
    {
     "name": "stdout",
     "output_type": "stream",
     "text": [
      "用较慢的策略处理[...]\n"
     ]
    }
   ],
   "source": [
    "s2 = SlowStrategy()\n",
    "context.set_strategy(s2) # 切换策略\n",
    "context.do_strategy()"
   ]
  }
 ],
 "metadata": {
  "kernelspec": {
   "display_name": "base",
   "language": "python",
   "name": "python3"
  },
  "language_info": {
   "codemirror_mode": {
    "name": "ipython",
    "version": 3
   },
   "file_extension": ".py",
   "mimetype": "text/x-python",
   "name": "python",
   "nbconvert_exporter": "python",
   "pygments_lexer": "ipython3",
   "version": "3.11.4"
  },
  "orig_nbformat": 4
 },
 "nbformat": 4,
 "nbformat_minor": 2
}
