{
 "cells": [
  {
   "cell_type": "markdown",
   "metadata": {},
   "source": [
    "#### 代理模式"
   ]
  },
  {
   "cell_type": "markdown",
   "metadata": {},
   "source": [
    "- 内容:为其他对象提供一种代理以控制对这个对象的访问。  \n",
    "- 应用场景：  \n",
    "    - 远程代理:为远程的对象提供代理   \n",
    "    - 虚代理:根据需要创建很大的对象    \n",
    "    - 保护代理:控制对原始对象的访问，用于对象有不同访问权限时"
   ]
  },
  {
   "cell_type": "markdown",
   "metadata": {},
   "source": [
    " - 角色:  \n",
    "    - 抽象实体(Subject)   \n",
    "    - 实体(RealSubject)    \n",
    "    - 代理（Proxy）  \n",
    "- 优点:\n",
    "    - 远程代理：可以隐藏对象位于远程地址空间的事实  \n",
    "    - 虚代理：可以进行优化，例如根据要求创建对象  \n",
    "    - 保护代理：允许在访问一个对象时有一些附加的内务处理"
   ]
  },
  {
   "cell_type": "code",
   "execution_count": 14,
   "metadata": {},
   "outputs": [],
   "source": [
    "from abc import ABCMeta, abstractmethod\n",
    "\n",
    "# 抽象实体\n",
    "class Subject(metaclass=ABCMeta):\n",
    "    @abstractmethod\n",
    "    def get_content(self):\n",
    "        pass\n",
    "\n",
    "    @abstractmethod\n",
    "    def set_content(self, content):\n",
    "        pass"
   ]
  },
  {
   "cell_type": "code",
   "execution_count": 15,
   "metadata": {},
   "outputs": [],
   "source": [
    "# 真正实体\n",
    "class RealSubject(Subject):\n",
    "    def __init__(self, filename):\n",
    "        self.filename = filename\n",
    "        f = open(filename, 'r')\n",
    "        print(\"读取文件内容...\")\n",
    "        self.content = f.read()\n",
    "        f.close()\n",
    "\n",
    "    def get_content(self):\n",
    "        return self.content\n",
    "    \n",
    "    def set_content(self, content):\n",
    "        f = open(self.filename, 'w')\n",
    "        f.write(content)\n",
    "        f.close()"
   ]
  },
  {
   "cell_type": "code",
   "execution_count": 16,
   "metadata": {},
   "outputs": [
    {
     "name": "stdout",
     "output_type": "stream",
     "text": [
      "读取文件内容...\n"
     ]
    }
   ],
   "source": [
    "subj = RealSubject('test.txt')\n",
    "# subj.get_content()"
   ]
  },
  {
   "cell_type": "code",
   "execution_count": 17,
   "metadata": {},
   "outputs": [],
   "source": [
    "# 虚代理\n",
    "class VirtualProxy(Subject):\n",
    "    def __init__(self, filename):\n",
    "        self.filename = filename\n",
    "        self.subj = None\n",
    "\n",
    "    # 只有在调用方法时才会创建 RealSubject 的对象\n",
    "    def get_content(self):\n",
    "        if not self.subj:\n",
    "            self.subj = RealSubject(self.filename)\n",
    "        return self.subj.get_content()\n",
    "    \n",
    "    # 只有在调用方法时才会创建 RealSubject 的对象\n",
    "    def set_content(self):\n",
    "        if not self.subj:\n",
    "            self.subj = RealSubject(self.filename)\n",
    "        return self.subj.set_content()\n",
    "    "
   ]
  },
  {
   "cell_type": "code",
   "execution_count": 19,
   "metadata": {},
   "outputs": [
    {
     "name": "stdout",
     "output_type": "stream",
     "text": [
      "读取文件内容...\n",
      "CentraleSupélec is a public institution under ministerial charter, devoted to the sciences and engineering. This charter is shared between the Ministry of Higher Education,  Research and Innovation, and the Ministry of Economy, Industry and Digital Technologies. CentraleSupélec was officially established on January 1st, 2015, bringing together two leading engineering schools in France; Ecole Centrale Paris and Supélec. The co-operation between our two grandes écoles, as they are known in the French system, had progressively been gaining momentum since 2009, with sustained alliance in three core areas: engineering education, executive education and research.\n"
     ]
    }
   ],
   "source": [
    "subj = VirtualProxy('test.txt')\n",
    "# subj.get_content()\n",
    "print(subj.get_content())"
   ]
  },
  {
   "cell_type": "code",
   "execution_count": 20,
   "metadata": {},
   "outputs": [],
   "source": [
    "class protectedProxy(Subject):\n",
    "    def __init__(self, filename):\n",
    "        self.subj = RealSubject(filename)\n",
    "\n",
    "    def get_content(self):\n",
    "        return self.subj.get_content()\n",
    "    \n",
    "    def set_content(self, content):\n",
    "        raise PermissionError(\"无写入权限\")"
   ]
  },
  {
   "cell_type": "code",
   "execution_count": 21,
   "metadata": {},
   "outputs": [
    {
     "name": "stdout",
     "output_type": "stream",
     "text": [
      "读取文件内容...\n"
     ]
    },
    {
     "ename": "PermissionError",
     "evalue": "无写入权限",
     "output_type": "error",
     "traceback": [
      "\u001b[1;31m---------------------------------------------------------------------------\u001b[0m",
      "\u001b[1;31mPermissionError\u001b[0m                           Traceback (most recent call last)",
      "\u001b[1;32md:\\知研\\Python设计模式\\D08-代理模式.ipynb 单元格 10\u001b[0m line \u001b[0;36m2\n\u001b[0;32m      <a href='vscode-notebook-cell:/d%3A/%E7%9F%A5%E7%A0%94/Python%E8%AE%BE%E8%AE%A1%E6%A8%A1%E5%BC%8F/D08-%E4%BB%A3%E7%90%86%E6%A8%A1%E5%BC%8F.ipynb#X12sZmlsZQ%3D%3D?line=0'>1</a>\u001b[0m subj \u001b[39m=\u001b[39m protectedProxy(\u001b[39m'\u001b[39m\u001b[39mtest.txt\u001b[39m\u001b[39m'\u001b[39m)\n\u001b[1;32m----> <a href='vscode-notebook-cell:/d%3A/%E7%9F%A5%E7%A0%94/Python%E8%AE%BE%E8%AE%A1%E6%A8%A1%E5%BC%8F/D08-%E4%BB%A3%E7%90%86%E6%A8%A1%E5%BC%8F.ipynb#X12sZmlsZQ%3D%3D?line=1'>2</a>\u001b[0m subj\u001b[39m.\u001b[39mset_content(\u001b[39m\"\u001b[39m\u001b[39mCentraleSupélec est très bonne !\u001b[39m\u001b[39m\"\u001b[39m)\n",
      "\u001b[1;32md:\\知研\\Python设计模式\\D08-代理模式.ipynb 单元格 10\u001b[0m line \u001b[0;36m9\n\u001b[0;32m      <a href='vscode-notebook-cell:/d%3A/%E7%9F%A5%E7%A0%94/Python%E8%AE%BE%E8%AE%A1%E6%A8%A1%E5%BC%8F/D08-%E4%BB%A3%E7%90%86%E6%A8%A1%E5%BC%8F.ipynb#X12sZmlsZQ%3D%3D?line=7'>8</a>\u001b[0m \u001b[39mdef\u001b[39;00m \u001b[39mset_content\u001b[39m(\u001b[39mself\u001b[39m, content):\n\u001b[1;32m----> <a href='vscode-notebook-cell:/d%3A/%E7%9F%A5%E7%A0%94/Python%E8%AE%BE%E8%AE%A1%E6%A8%A1%E5%BC%8F/D08-%E4%BB%A3%E7%90%86%E6%A8%A1%E5%BC%8F.ipynb#X12sZmlsZQ%3D%3D?line=8'>9</a>\u001b[0m     \u001b[39mraise\u001b[39;00m \u001b[39mPermissionError\u001b[39;00m(\u001b[39m\"\u001b[39m\u001b[39m无写入权限\u001b[39m\u001b[39m\"\u001b[39m)\n",
      "\u001b[1;31mPermissionError\u001b[0m: 无写入权限"
     ]
    }
   ],
   "source": [
    "subj = protectedProxy('test.txt')\n",
    "subj.set_content(\"CentraleSupélec est très bonne !\")"
   ]
  }
 ],
 "metadata": {
  "kernelspec": {
   "display_name": "base",
   "language": "python",
   "name": "python3"
  },
  "language_info": {
   "codemirror_mode": {
    "name": "ipython",
    "version": 3
   },
   "file_extension": ".py",
   "mimetype": "text/x-python",
   "name": "python",
   "nbconvert_exporter": "python",
   "pygments_lexer": "ipython3",
   "version": "3.11.4"
  },
  "orig_nbformat": 4
 },
 "nbformat": 4,
 "nbformat_minor": 2
}
