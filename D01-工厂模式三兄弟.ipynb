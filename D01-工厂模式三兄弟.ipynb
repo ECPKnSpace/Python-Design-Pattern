{
 "cells": [
  {
   "cell_type": "markdown",
   "metadata": {},
   "source": [
    "#### 简单工厂模式"
   ]
  },
  {
   "cell_type": "markdown",
   "metadata": {},
   "source": [
    "- 内容：不直接向客户端暴露对象创建的实现细节，而是通过一个工厂类来负责创建产品类的实例。\n",
    "- 角色：\n",
    "    - 工厂角色（Creator）\n",
    "    - 抽象产品角色（Product）\n",
    "    - 具体产品角色（Concrete Product）\n",
    "- 优点：\n",
    "    - 隐藏了对象创建的实现细节\n",
    "    - 客户端不需要修改代码\n",
    "- 缺点：\n",
    "    - 违反了单一职责原则，将创建逻辑集中到一个工厂类里\n",
    "    - 当添加新产品时，需要修改工厂类代码，违反了开闭原则"
   ]
  },
  {
   "cell_type": "code",
   "execution_count": 18,
   "metadata": {},
   "outputs": [],
   "source": [
    "from abc import ABCMeta, abstractmethod\n",
    "\n",
    "# 抽象产品角色\n",
    "class Payment(metaclass=ABCMeta):\n",
    "    # abstract class\n",
    "    @abstractmethod\n",
    "    def pay(self, money):\n",
    "        pass\n",
    "\n",
    "# 具体产品角色\n",
    "class AliPay(Payment):\n",
    "    def __init__(self, use_huabei=False):\n",
    "        self.use_huabei = use_huabei\n",
    "    # implement\n",
    "    def pay(self, money):\n",
    "        if self.use_huabei:\n",
    "            print('花呗支付{:.2f}元💴。'.format(money))\n",
    "        else:\n",
    "            print('支付宝支付{:.2f}元💴。'.format(money))\n",
    "\n",
    "# 具体产品角色\n",
    "class WechatPay(Payment):\n",
    "    # implement\n",
    "    def pay(self, money):\n",
    "        print('微信支付{:.2f}元💴。'.format(money))\n",
    "\n",
    "# 工厂角色\n",
    "class PaymentFactory:\n",
    "    def create_payment(self, method):\n",
    "        if method == 'alipay':\n",
    "            return AliPay()\n",
    "        elif method == 'huabei':\n",
    "            return AliPay(use_huabei=True)\n",
    "        elif method == 'wechat':\n",
    "            return WechatPay()\n",
    "        else:\n",
    "            raise TypeError(\"No such payment named %s\" % method)"
   ]
  },
  {
   "cell_type": "code",
   "execution_count": 19,
   "metadata": {},
   "outputs": [
    {
     "name": "stdout",
     "output_type": "stream",
     "text": [
      "支付宝支付100.00元💴。\n"
     ]
    }
   ],
   "source": [
    "# 客户端 Client\n",
    "pf = PaymentFactory()\n",
    "p = pf.create_payment('alipay') # 创建一个 AliPay 实例\n",
    "p.pay(100)"
   ]
  },
  {
   "cell_type": "code",
   "execution_count": 20,
   "metadata": {},
   "outputs": [
    {
     "name": "stdout",
     "output_type": "stream",
     "text": [
      "花呗支付200.00元💴。\n"
     ]
    }
   ],
   "source": [
    "# 客户端 Client\n",
    "pf = PaymentFactory()\n",
    "p = pf.create_payment('huabei') # 创建一个 AliPay(use_huabei=True) 实例\n",
    "p.pay(200)"
   ]
  },
  {
   "cell_type": "code",
   "execution_count": 21,
   "metadata": {},
   "outputs": [
    {
     "name": "stdout",
     "output_type": "stream",
     "text": [
      "微信支付300.00元💴。\n"
     ]
    }
   ],
   "source": [
    "# 客户端 Client\n",
    "pf = PaymentFactory()\n",
    "p = pf.create_payment('wechat') # 创建一个 WechatPay() 实例\n",
    "p.pay(300)"
   ]
  },
  {
   "cell_type": "markdown",
   "metadata": {},
   "source": [
    "#### 工厂方法模式  "
   ]
  },
  {
   "cell_type": "markdown",
   "metadata": {},
   "source": [
    "- 内容：定义一个用于创建对象的接口（工厂接口），让子类决定实例化哪一个产品类。  \n",
    "- 角色：    \n",
    "    - 抽象工厂角色（Creator）  \n",
    "    - 具体工厂角色（Concrete Creator）  \n",
    "    - 抽象产品角色（Product）  \n",
    "    - 具体产品角色（Concrete Product） \n",
    "- 优点：    \n",
    "    - 每个具体产品都对应一个具体工厂类，不需要修改工厂类代码    \n",
    "    - 隐藏了对象创建的实现细节  \n",
    "- 缺点：  \n",
    "    - 每增加一个具体产品类，就必须增加一个相应的具体工厂类\n"
   ]
  },
  {
   "cell_type": "code",
   "execution_count": 30,
   "metadata": {},
   "outputs": [],
   "source": [
    "from abc import ABCMeta, abstractmethod\n",
    "\n",
    "# 抽象产品角色\n",
    "class Payment(metaclass=ABCMeta):\n",
    "    # abstract class\n",
    "    @abstractmethod\n",
    "    def pay(self, money):\n",
    "        pass\n",
    "\n",
    "# 具体产品角色\n",
    "class AliPay(Payment):\n",
    "    def __init__(self, use_huabei=False):\n",
    "        self.use_huabei = use_huabei\n",
    "    # implement\n",
    "    def pay(self, money):\n",
    "        if self.use_huabei:\n",
    "            print('花呗支付{:.2f}元💴。'.format(money))\n",
    "        else:\n",
    "            print('支付宝支付{:.2f}元💴。'.format(money))\n",
    "\n",
    "# 具体产品角色\n",
    "class WechatPay(Payment):\n",
    "    # implement\n",
    "    def pay(self, money):\n",
    "        print('微信支付{:.2f}元💴。'.format(money))\n",
    "\n",
    "# 具体产品角色\n",
    "class BankPay(Payment):\n",
    "    # implement\n",
    "    def pay(self, money):\n",
    "        print('银行卡支付{:.2f}元💴。'.format(money))\n",
    "\n",
    "# 抽象工厂角色\n",
    "class PaymentFactory(metaclass=ABCMeta):\n",
    "    @abstractmethod\n",
    "    def create_payment(self):\n",
    "        pass\n",
    "\n",
    "# 具体工厂角色\n",
    "class AliPayFactory(PaymentFactory):\n",
    "    # implement\n",
    "    def create_payment(self):\n",
    "        return AliPay()\n",
    "\n",
    "# 具体工厂角色\n",
    "class WechatPayFactory(PaymentFactory):\n",
    "    # implement\n",
    "    def create_payment(self):\n",
    "        return WechatPay()\n",
    "    \n",
    "# 具体工厂角色\n",
    "class HuabeiFactory(PaymentFactory):\n",
    "    # implement\n",
    "    def create_payment(self):\n",
    "        return AliPay(use_huabei=True)\n",
    "    \n",
    "# 具体工厂角色\n",
    "class BankPayFactory(PaymentFactory):\n",
    "    # implement\n",
    "    def create_payment(self):\n",
    "        return BankPay()"
   ]
  },
  {
   "cell_type": "code",
   "execution_count": 23,
   "metadata": {},
   "outputs": [
    {
     "name": "stdout",
     "output_type": "stream",
     "text": [
      "花呗支付100.00元💴。\n"
     ]
    }
   ],
   "source": [
    "# 客户端 Client\n",
    "pf = HuabeiFactory()\n",
    "p = pf.create_payment()\n",
    "p.pay(100)"
   ]
  },
  {
   "cell_type": "code",
   "execution_count": 24,
   "metadata": {},
   "outputs": [
    {
     "name": "stdout",
     "output_type": "stream",
     "text": [
      "支付宝支付200.00元💴。\n"
     ]
    }
   ],
   "source": [
    "# 客户端 Client\n",
    "pf = AliPayFactory()\n",
    "p = pf.create_payment()\n",
    "p.pay(200)"
   ]
  },
  {
   "cell_type": "code",
   "execution_count": 25,
   "metadata": {},
   "outputs": [
    {
     "name": "stdout",
     "output_type": "stream",
     "text": [
      "微信支付300.00元💴。\n"
     ]
    }
   ],
   "source": [
    "# 客户端 Client\n",
    "pf = WechatPayFactory()\n",
    "p = pf.create_payment()\n",
    "p.pay(300)"
   ]
  },
  {
   "cell_type": "code",
   "execution_count": 29,
   "metadata": {},
   "outputs": [
    {
     "name": "stdout",
     "output_type": "stream",
     "text": [
      "银行卡支付400.00元💴。\n"
     ]
    }
   ],
   "source": [
    "# 客户端 Client\n",
    "pf = BankPayFactory()\n",
    "p = pf.create_payment()\n",
    "p.pay(400)"
   ]
  },
  {
   "cell_type": "markdown",
   "metadata": {},
   "source": [
    "#### 抽象工厂模式"
   ]
  },
  {
   "cell_type": "markdown",
   "metadata": {},
   "source": [
    "- 内容：定义一个工厂类接口，让工厂子类来创建一系列相关或相互依赖的对象。    \n",
    "- 例：生产一部手机，需要手机壳、CPU、操作系统三类对象进行组装，其中每类对象都有不同的种类。对每个具体工厂，分别生产一部手机所需要的三个对象。  \n",
    "- 相比工厂方法模式，抽象工厂模式中的每个具体工厂都生产一套产品。"
   ]
  },
  {
   "cell_type": "markdown",
   "metadata": {},
   "source": [
    "- 角色：  \n",
    "    - 抽象工厂角色（Creator）  \n",
    "    - 具体工厂角色（Concrete Creator）  \n",
    "    - 抽象产品角色（Product）  \n",
    "    - 具体产品角色（Concrete Product）  \n",
    "    - 客户端（Client）"
   ]
  },
  {
   "cell_type": "markdown",
   "metadata": {},
   "source": [
    "- 优点：\n",
    "    - 将客户端与类的具体实现相分离  \n",
    "    - 每个工厂创建了一个完整的产品系列，使得易于交换产品系列  \n",
    "    - 有利于产品的一致性（即产品之间的约束关系）\n",
    "- 缺点： \n",
    "    - 难以支持新种类的（抽象）产品"
   ]
  },
  {
   "cell_type": "markdown",
   "metadata": {},
   "source": [
    "【例题】数码产品生产"
   ]
  },
  {
   "cell_type": "markdown",
   "metadata": {},
   "source": [
    "一个数码产品工厂可以产生多种类型的产品，如华为（Huawei）工厂可以生产Mate手机、MatePad平板、MateBook笔记本电脑等，苹果（Apple）工厂可以生产iPhone手机、iPad平板、MacBook笔记本电脑等。相同品牌的电器构成一个产品族，而相同类型的电器构成了一个产品等级结构。"
   ]
  },
  {
   "cell_type": "code",
   "execution_count": 31,
   "metadata": {},
   "outputs": [],
   "source": [
    "# 抽象产品角色 平板电脑\n",
    "class Pad(metaclass=ABCMeta):\n",
    "    @abstractmethod\n",
    "    def show_pad(self):\n",
    "        pass\n",
    "\n",
    "# 抽象产品角色 笔记本电脑\n",
    "class Computer(metaclass=ABCMeta):\n",
    "    @abstractmethod\n",
    "    def show_computer(self):\n",
    "        pass\n",
    "\n",
    "# 抽象产品角色 智能手机\n",
    "class Phone(metaclass=ABCMeta):\n",
    "    @abstractmethod\n",
    "    def show_phone(self):\n",
    "        pass"
   ]
  },
  {
   "cell_type": "code",
   "execution_count": 48,
   "metadata": {},
   "outputs": [],
   "source": [
    "# 具体产品角色 MetaPad\n",
    "class MatePad(Pad):\n",
    "    # implement\n",
    "    def show_pad(self):\n",
    "        print(\"平板电脑：MatePad\")\n",
    "\n",
    "# 具体产品角色 iPad\n",
    "class iPad(Pad):\n",
    "    # implement\n",
    "    def show_pad(self):\n",
    "        print(\"平板电脑：iPad\")\n",
    "\n",
    "# 具体产品角色 MateBook\n",
    "class MateBook(Computer):\n",
    "    # implement\n",
    "    def show_computer(self):\n",
    "        print(\"笔记本电脑：MateBook\")\n",
    "\n",
    "# 具体产品角色 MacBook\n",
    "class MacBook(Computer):\n",
    "    # implement\n",
    "    def show_computer(self):\n",
    "        print(\"笔记本电脑：MacBook\")\n",
    "\n",
    "# 具体产品角色 Mate\n",
    "class Mate(Phone):\n",
    "    # implement\n",
    "    def show_phone(self):\n",
    "        print(\"智能手机：Mate\")\n",
    "\n",
    "# 具体产品角色 iPhone\n",
    "class iPhone(Phone):\n",
    "    # implement\n",
    "    def show_phone(self):\n",
    "        print(\"智能手机：iPhone\")"
   ]
  },
  {
   "cell_type": "code",
   "execution_count": 49,
   "metadata": {},
   "outputs": [],
   "source": [
    "# 抽象工厂角色\n",
    "class AbstractFactory(metaclass=ABCMeta):\n",
    "    # 制造平板电脑\n",
    "    @abstractmethod\n",
    "    def createPad(self):\n",
    "        pass\n",
    "    # 制造笔记本电脑\n",
    "    @abstractmethod\n",
    "    def createComputer(self):\n",
    "        pass\n",
    "    # 制造智能手机\n",
    "    @abstractmethod\n",
    "    def createPhone(self):\n",
    "        pass"
   ]
  },
  {
   "cell_type": "code",
   "execution_count": 50,
   "metadata": {},
   "outputs": [],
   "source": [
    "# 具体工厂角色 HuaweiFactory\n",
    "class HuaweiFactory(AbstractFactory):\n",
    "    # implement\n",
    "    def createPad(self):\n",
    "        return MatePad()\n",
    "    # implement\n",
    "    def createComputer(self):\n",
    "        return MateBook()\n",
    "    # implement\n",
    "    def createPhone(self):\n",
    "        return Mate()\n",
    "\n",
    "# 具体工厂角色 AppleFactory\n",
    "class AppleFactory(AbstractFactory):\n",
    "    # implement\n",
    "    def createPad(self):\n",
    "        return iPad()\n",
    "    # implement\n",
    "    def createComputer(self):\n",
    "        return MacBook()\n",
    "    # implement\n",
    "    def createPhone(self):\n",
    "        return iPhone()"
   ]
  },
  {
   "cell_type": "code",
   "execution_count": 51,
   "metadata": {},
   "outputs": [],
   "source": [
    "# 客户端\n",
    "class Product:\n",
    "    def __init__(self, pad, computer, phone):\n",
    "        self.pad = pad\n",
    "        self.computer = computer\n",
    "        self.phone = phone\n",
    "    \n",
    "    def show_info(self):\n",
    "        print(\"制造产品：\")\n",
    "        self.pad.show_pad()\n",
    "        self.computer.show_computer()\n",
    "        self.phone.show_phone()\n",
    "\n",
    "def make_product(factory):\n",
    "    pad = factory.createPad()\n",
    "    computer = factory.createComputer()\n",
    "    phone = factory.createPhone()\n",
    "    return Product(pad, computer, phone)"
   ]
  },
  {
   "cell_type": "code",
   "execution_count": 52,
   "metadata": {},
   "outputs": [
    {
     "name": "stdout",
     "output_type": "stream",
     "text": [
      "制造产品：\n",
      "平板电脑：MatePad\n",
      "笔记本电脑：MateBook\n",
      "智能手机：Mate\n"
     ]
    }
   ],
   "source": [
    "hf = make_product(HuaweiFactory())\n",
    "hf.show_info()"
   ]
  },
  {
   "cell_type": "code",
   "execution_count": 53,
   "metadata": {},
   "outputs": [
    {
     "name": "stdout",
     "output_type": "stream",
     "text": [
      "制造产品：\n",
      "平板电脑：iPad\n",
      "笔记本电脑：MacBook\n",
      "智能手机：iPhone\n"
     ]
    }
   ],
   "source": [
    "af = make_product(AppleFactory())\n",
    "af.show_info()"
   ]
  }
 ],
 "metadata": {
  "kernelspec": {
   "display_name": "base",
   "language": "python",
   "name": "python3"
  },
  "language_info": {
   "codemirror_mode": {
    "name": "ipython",
    "version": 3
   },
   "file_extension": ".py",
   "mimetype": "text/x-python",
   "name": "python",
   "nbconvert_exporter": "python",
   "pygments_lexer": "ipython3",
   "version": "3.11.4"
  },
  "orig_nbformat": 4
 },
 "nbformat": 4,
 "nbformat_minor": 2
}
