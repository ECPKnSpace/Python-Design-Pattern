{
 "cells": [
  {
   "cell_type": "markdown",
   "metadata": {},
   "source": [
    "#### 外观模式"
   ]
  },
  {
   "cell_type": "markdown",
   "metadata": {},
   "source": [
    "- 内容：为子系统中的一组接口提供一个一致的界面，外观模式定义了一个高层接口，这个接口使得这一子系统更加容易使用。   \n",
    "- 角色：    \n",
    "    - 外观（facade）  \n",
    "    - 子系统类（subsystem classes）"
   ]
  },
  {
   "cell_type": "markdown",
   "metadata": {},
   "source": [
    "- 优点\n",
    "    - 减少系统相互依赖\n",
    "    - 提高了灵活性\n",
    "    - 提高了安全性"
   ]
  },
  {
   "cell_type": "code",
   "execution_count": 1,
   "metadata": {},
   "outputs": [],
   "source": [
    "class CPU:\n",
    "    def run(self):\n",
    "        print(\"CPU开始运行\")\n",
    "\n",
    "    def stop(self):\n",
    "        print(\"CPU停止运行\")\n",
    "\n",
    "\n",
    "class Disk:\n",
    "    def run(self):\n",
    "        print(\"硬盘开始工作\")\n",
    "\n",
    "    def stop(self):\n",
    "        print(\"硬盘停止工作\")\n",
    "\n",
    "\n",
    "class Memory:\n",
    "    def run(self):\n",
    "        print(\"内存通电\")\n",
    "\n",
    "    def stop(self):\n",
    "        print(\"内存断电\")"
   ]
  },
  {
   "cell_type": "code",
   "execution_count": 2,
   "metadata": {},
   "outputs": [],
   "source": [
    "class Computer:\n",
    "    def __init__(self):\n",
    "        self.cpu = CPU()\n",
    "        self.disk = Disk()\n",
    "        self.memory = Memory()\n",
    "\n",
    "    def run(self):\n",
    "        self.cpu.run()\n",
    "        self.disk.run()\n",
    "        self.memory.run()\n",
    "\n",
    "    def stop(self):\n",
    "        self.cpu.stop()\n",
    "        self.disk.stop()\n",
    "        self.memory.stop()"
   ]
  },
  {
   "cell_type": "code",
   "execution_count": 3,
   "metadata": {},
   "outputs": [
    {
     "name": "stdout",
     "output_type": "stream",
     "text": [
      "CPU开始运行\n",
      "硬盘开始工作\n",
      "内存通电\n",
      "CPU停止运行\n",
      "硬盘停止工作\n",
      "内存断电\n"
     ]
    }
   ],
   "source": [
    "computer = Computer()\n",
    "computer.run()\n",
    "computer.stop()"
   ]
  }
 ],
 "metadata": {
  "kernelspec": {
   "display_name": "base",
   "language": "python",
   "name": "python3"
  },
  "language_info": {
   "codemirror_mode": {
    "name": "ipython",
    "version": 3
   },
   "file_extension": ".py",
   "mimetype": "text/x-python",
   "name": "python",
   "nbconvert_exporter": "python",
   "pygments_lexer": "ipython3",
   "version": "3.11.4"
  },
  "orig_nbformat": 4
 },
 "nbformat": 4,
 "nbformat_minor": 2
}
